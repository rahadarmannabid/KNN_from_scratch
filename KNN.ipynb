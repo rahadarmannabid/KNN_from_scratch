{
 "cells": [
  {
   "cell_type": "code",
   "execution_count": 243,
   "metadata": {},
   "outputs": [],
   "source": [
    "import pandas as pd\n",
    "import numpy as np\n",
    "from sklearn.model_selection import train_test_split"
   ]
  },
  {
   "cell_type": "code",
   "execution_count": 244,
   "metadata": {},
   "outputs": [],
   "source": [
    "dataDataframe=pd.read_csv('iris.csv')"
   ]
  },
  {
   "cell_type": "code",
   "execution_count": 245,
   "metadata": {},
   "outputs": [
    {
     "data": {
      "text/html": [
       "<div>\n",
       "<style scoped>\n",
       "    .dataframe tbody tr th:only-of-type {\n",
       "        vertical-align: middle;\n",
       "    }\n",
       "\n",
       "    .dataframe tbody tr th {\n",
       "        vertical-align: top;\n",
       "    }\n",
       "\n",
       "    .dataframe thead th {\n",
       "        text-align: right;\n",
       "    }\n",
       "</style>\n",
       "<table border=\"1\" class=\"dataframe\">\n",
       "  <thead>\n",
       "    <tr style=\"text-align: right;\">\n",
       "      <th></th>\n",
       "      <th>sepal.length</th>\n",
       "      <th>sepal.width</th>\n",
       "      <th>petal.length</th>\n",
       "      <th>petal.width</th>\n",
       "      <th>variety</th>\n",
       "    </tr>\n",
       "  </thead>\n",
       "  <tbody>\n",
       "    <tr>\n",
       "      <th>0</th>\n",
       "      <td>5.1</td>\n",
       "      <td>3.5</td>\n",
       "      <td>1.4</td>\n",
       "      <td>0.2</td>\n",
       "      <td>Setosa</td>\n",
       "    </tr>\n",
       "    <tr>\n",
       "      <th>1</th>\n",
       "      <td>4.9</td>\n",
       "      <td>3.0</td>\n",
       "      <td>1.4</td>\n",
       "      <td>0.2</td>\n",
       "      <td>Setosa</td>\n",
       "    </tr>\n",
       "    <tr>\n",
       "      <th>2</th>\n",
       "      <td>4.7</td>\n",
       "      <td>3.2</td>\n",
       "      <td>1.3</td>\n",
       "      <td>0.2</td>\n",
       "      <td>Setosa</td>\n",
       "    </tr>\n",
       "    <tr>\n",
       "      <th>3</th>\n",
       "      <td>4.6</td>\n",
       "      <td>3.1</td>\n",
       "      <td>1.5</td>\n",
       "      <td>0.2</td>\n",
       "      <td>Setosa</td>\n",
       "    </tr>\n",
       "    <tr>\n",
       "      <th>4</th>\n",
       "      <td>5.0</td>\n",
       "      <td>3.6</td>\n",
       "      <td>1.4</td>\n",
       "      <td>0.2</td>\n",
       "      <td>Setosa</td>\n",
       "    </tr>\n",
       "  </tbody>\n",
       "</table>\n",
       "</div>"
      ],
      "text/plain": [
       "   sepal.length  sepal.width  petal.length  petal.width variety\n",
       "0           5.1          3.5           1.4          0.2  Setosa\n",
       "1           4.9          3.0           1.4          0.2  Setosa\n",
       "2           4.7          3.2           1.3          0.2  Setosa\n",
       "3           4.6          3.1           1.5          0.2  Setosa\n",
       "4           5.0          3.6           1.4          0.2  Setosa"
      ]
     },
     "execution_count": 245,
     "metadata": {},
     "output_type": "execute_result"
    }
   ],
   "source": [
    "dataDataframe.head(5)"
   ]
  },
  {
   "cell_type": "code",
   "execution_count": 246,
   "metadata": {},
   "outputs": [],
   "source": [
    "dataNumpy = dataDataframe.to_numpy()\n"
   ]
  },
  {
   "cell_type": "code",
   "execution_count": 247,
   "metadata": {},
   "outputs": [],
   "source": [
    "def distanceMeasure(data):\n",
    "    a=np.zeros((len(data),len(data)))\n",
    "    for i in range(0,len(data)):\n",
    "        for j in range(0,len(data)):\n",
    "            dist=np.linalg.norm(data[i,:]-data[j,:])\n",
    "            a[i,j]=dist   \n",
    "    return a\n",
    "    "
   ]
  },
  {
   "cell_type": "raw",
   "metadata": {},
   "source": [
    "X_train, X_test, y_train, y_test = train_test_split(dataNumpy[:,0:3], dataNumpy[:,4], test_size=0.25, random_state=42)\n",
    "train=distanceMeasure(X_train)\n",
    "test=distanceMeasure(X_test)\n"
   ]
  },
  {
   "cell_type": "code",
   "execution_count": 248,
   "metadata": {},
   "outputs": [],
   "source": [
    "def DataStack(data,label):\n",
    "    #print(data.shape,label.shape)\n",
    "    dataStack=np.column_stack(((data, label)))\n",
    "    return dataStack"
   ]
  },
  {
   "cell_type": "raw",
   "metadata": {},
   "source": [
    "trainStack=DataSorted(train,y_train)\n",
    "testStack=DataSorted(test,y_test)"
   ]
  },
  {
   "cell_type": "code",
   "execution_count": 249,
   "metadata": {},
   "outputs": [],
   "source": [
    "def DataSort(data,i):\n",
    "    dataSort = data[data[:,i].argsort()]\n",
    "    return dataSort"
   ]
  },
  {
   "cell_type": "code",
   "execution_count": 250,
   "metadata": {},
   "outputs": [],
   "source": [
    "def DataUnique(data):\n",
    "    unique, counts = np.unique(data, return_counts=True)\n",
    "    #print(unique,counts)\n",
    "    return unique[0],counts"
   ]
  },
  {
   "cell_type": "code",
   "execution_count": 251,
   "metadata": {},
   "outputs": [],
   "source": [
    "def DataCheck(unique,data):\n",
    "    value=0\n",
    "    if (data==unique):\n",
    "        value=1\n",
    "        \n",
    "    return value"
   ]
  },
  {
   "cell_type": "code",
   "execution_count": 269,
   "metadata": {},
   "outputs": [
    {
     "name": "stdout",
     "output_type": "stream",
     "text": [
      "(112, 112) (112,)\n",
      "(38, 38) (38,)\n",
      "(112, 112) (112,)\n",
      "(38, 38) (38,)\n",
      "(112, 112) (112,)\n",
      "(38, 38) (38,)\n",
      "(112, 112) (112,)\n",
      "(38, 38) (38,)\n",
      "(112, 112) (112,)\n",
      "(38, 38) (38,)\n",
      "(112, 112) (112,)\n",
      "(38, 38) (38,)\n",
      "(112, 112) (112,)\n",
      "(38, 38) (38,)\n",
      "(112, 112) (112,)\n",
      "(38, 38) (38,)\n",
      "(112, 112) (112,)\n",
      "(38, 38) (38,)\n",
      "(112, 112) (112,)\n",
      "(38, 38) (38,)\n",
      "(112, 112) (112,)\n",
      "(38, 38) (38,)\n",
      "(112, 112) (112,)\n",
      "(38, 38) (38,)\n",
      "(112, 112) (112,)\n",
      "(38, 38) (38,)\n",
      "(112, 112) (112,)\n",
      "(38, 38) (38,)\n",
      "(112, 112) (112,)\n",
      "(38, 38) (38,)\n",
      "(112, 112) (112,)\n",
      "(38, 38) (38,)\n",
      "(112, 112) (112,)\n",
      "(38, 38) (38,)\n",
      "(112, 112) (112,)\n",
      "(38, 38) (38,)\n",
      "(112, 112) (112,)\n",
      "(38, 38) (38,)\n",
      "(112, 112) (112,)\n",
      "(38, 38) (38,)\n",
      "(112, 112) (112,)\n",
      "(38, 38) (38,)\n",
      "(112, 112) (112,)\n",
      "(38, 38) (38,)\n",
      "(112, 112) (112,)\n",
      "(38, 38) (38,)\n",
      "(112, 112) (112,)\n",
      "(38, 38) (38,)\n",
      "(112, 112) (112,)\n",
      "(38, 38) (38,)\n",
      "(112, 112) (112,)\n",
      "(38, 38) (38,)\n",
      "(112, 112) (112,)\n",
      "(38, 38) (38,)\n",
      "(112, 112) (112,)\n",
      "(38, 38) (38,)\n",
      "(112, 112) (112,)\n",
      "(38, 38) (38,)\n",
      "(112, 112) (112,)\n",
      "(38, 38) (38,)\n",
      "(112, 112) (112,)\n",
      "(38, 38) (38,)\n",
      "(112, 112) (112,)\n",
      "(38, 38) (38,)\n",
      "(112, 112) (112,)\n",
      "(38, 38) (38,)\n",
      "(112, 112) (112,)\n",
      "(38, 38) (38,)\n",
      "(112, 112) (112,)\n",
      "(38, 38) (38,)\n",
      "(112, 112) (112,)\n",
      "(38, 38) (38,)\n",
      "(112, 112) (112,)\n",
      "(38, 38) (38,)\n",
      "(112, 112) (112,)\n",
      "(38, 38) (38,)\n",
      "(112, 112) (112,)\n",
      "(38, 38) (38,)\n",
      "(112, 112) (112,)\n",
      "(38, 38) (38,)\n",
      "(112, 112) (112,)\n",
      "(38, 38) (38,)\n",
      "(112, 112) (112,)\n",
      "(38, 38) (38,)\n",
      "(112, 112) (112,)\n",
      "(38, 38) (38,)\n",
      "(112, 112) (112,)\n",
      "(38, 38) (38,)\n",
      "(112, 112) (112,)\n",
      "(38, 38) (38,)\n",
      "(112, 112) (112,)\n",
      "(38, 38) (38,)\n",
      "(112, 112) (112,)\n",
      "(38, 38) (38,)\n",
      "(112, 112) (112,)\n",
      "(38, 38) (38,)\n",
      "(112, 112) (112,)\n",
      "(38, 38) (38,)\n",
      "(112, 112) (112,)\n",
      "(38, 38) (38,)\n",
      "33.982142857142854 0.0\n"
     ]
    }
   ],
   "source": [
    "accuracy=0\n",
    "accuracyUnit_train=0\n",
    "accuracyUnit_test=0\n",
    "for l in range(0,50):\n",
    "    X_train, X_test, y_train, y_test = train_test_split(dataNumpy[:,0:3], dataNumpy[:,4], test_size=0.25, random_state=l)\n",
    "    train=distanceMeasure(X_train)\n",
    "    test=distanceMeasure(X_test)\n",
    "    trainStack=DataSorted(train,y_train)\n",
    "    testStack=DataSorted(test,y_test)\n",
    "    k=15\n",
    "    a,b=trainStack.shape\n",
    "    c,d=testStack.shape\n",
    "    \n",
    "    \n",
    "    correctCheck_train=0\n",
    "    for i in range(0,a-1): \n",
    "        trainSort=DataSort(trainStack,i)\n",
    "        #a,b=trainSort.shape\n",
    "        #c,d=testSort.shape\n",
    "        unique_train,counts=DataUnique(trainSort[0:k+1,b-1])\n",
    "        correctCheck_train=correctCheck_train+DataCheck(unique_train,trainSort[i,b-1])\n",
    "    accuracyUnit_train=accuracyUnit_train+correctCheck_train/a*100\n",
    "    \n",
    "    \n",
    "    \n",
    "   \n",
    "\n",
    "    \n",
    "accuracy_train=accuracyUnit_train/50\n",
    "accuracy_test=accuracyUnit_test/50\n",
    "print(accuracy_train,accuracy_test)\n"
   ]
  },
  {
   "cell_type": "code",
   "execution_count": null,
   "metadata": {},
   "outputs": [],
   "source": []
  },
  {
   "cell_type": "code",
   "execution_count": null,
   "metadata": {
    "scrolled": true
   },
   "outputs": [],
   "source": []
  },
  {
   "cell_type": "code",
   "execution_count": null,
   "metadata": {},
   "outputs": [],
   "source": []
  },
  {
   "cell_type": "code",
   "execution_count": null,
   "metadata": {},
   "outputs": [],
   "source": []
  },
  {
   "cell_type": "code",
   "execution_count": null,
   "metadata": {},
   "outputs": [],
   "source": []
  },
  {
   "cell_type": "code",
   "execution_count": null,
   "metadata": {},
   "outputs": [],
   "source": []
  },
  {
   "cell_type": "code",
   "execution_count": null,
   "metadata": {},
   "outputs": [],
   "source": []
  },
  {
   "cell_type": "code",
   "execution_count": null,
   "metadata": {},
   "outputs": [],
   "source": []
  },
  {
   "cell_type": "code",
   "execution_count": null,
   "metadata": {},
   "outputs": [],
   "source": []
  },
  {
   "cell_type": "code",
   "execution_count": null,
   "metadata": {},
   "outputs": [],
   "source": []
  },
  {
   "cell_type": "code",
   "execution_count": null,
   "metadata": {},
   "outputs": [],
   "source": []
  },
  {
   "cell_type": "code",
   "execution_count": null,
   "metadata": {},
   "outputs": [],
   "source": []
  },
  {
   "cell_type": "code",
   "execution_count": 253,
   "metadata": {},
   "outputs": [
    {
     "name": "stdout",
     "output_type": "stream",
     "text": [
      "Reinitialized existing Git repository in C:/Users/User/Desktop/Course/Limon Vai ML Course/KNN_from_scratch/.git/\n"
     ]
    },
    {
     "name": "stderr",
     "output_type": "stream",
     "text": [
      "warning: LF will be replaced by CRLF in KNN.ipynb.\n",
      "The file will have its original line endings in your working directory\n"
     ]
    },
    {
     "name": "stdout",
     "output_type": "stream",
     "text": [
      "[main e0734e6] first commit\n",
      " 1 file changed, 221 insertions(+), 170 deletions(-)\n"
     ]
    },
    {
     "name": "stderr",
     "output_type": "stream",
     "text": [
      "error: remote origin already exists.\n"
     ]
    },
    {
     "name": "stdout",
     "output_type": "stream",
     "text": [
      "Branch 'main' set up to track remote branch 'main' from 'origin'.\n"
     ]
    },
    {
     "name": "stderr",
     "output_type": "stream",
     "text": [
      "To https://github.com/rahadarmannabid/KNN_from_scratch.git\n",
      "   c8f4703..e0734e6  main -> main\n"
     ]
    }
   ],
   "source": [
    "!git init\n",
    "!git add .\n",
    "!git commit -m \"first commit\"\n",
    "!git branch -M main\n",
    "!git remote add origin https://github.com/rahadarmannabid/KNN_from_scratch.git\n",
    "!git push -u origin main"
   ]
  },
  {
   "cell_type": "code",
   "execution_count": null,
   "metadata": {},
   "outputs": [],
   "source": []
  }
 ],
 "metadata": {
  "kernelspec": {
   "display_name": "Python 3",
   "language": "python",
   "name": "python3"
  },
  "language_info": {
   "codemirror_mode": {
    "name": "ipython",
    "version": 3
   },
   "file_extension": ".py",
   "mimetype": "text/x-python",
   "name": "python",
   "nbconvert_exporter": "python",
   "pygments_lexer": "ipython3",
   "version": "3.8.5"
  }
 },
 "nbformat": 4,
 "nbformat_minor": 4
}
