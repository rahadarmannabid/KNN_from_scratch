{
 "cells": [
  {
   "cell_type": "code",
   "execution_count": 2,
   "metadata": {},
   "outputs": [],
   "source": [
    "import pandas as pd\n",
    "import numpy as np"
   ]
  },
  {
   "cell_type": "code",
   "execution_count": 58,
   "metadata": {},
   "outputs": [],
   "source": [
    "dataDataframe=pd.read_csv('iris.csv')"
   ]
  },
  {
   "cell_type": "code",
   "execution_count": 59,
   "metadata": {},
   "outputs": [
    {
     "data": {
      "text/html": [
       "<div>\n",
       "<style scoped>\n",
       "    .dataframe tbody tr th:only-of-type {\n",
       "        vertical-align: middle;\n",
       "    }\n",
       "\n",
       "    .dataframe tbody tr th {\n",
       "        vertical-align: top;\n",
       "    }\n",
       "\n",
       "    .dataframe thead th {\n",
       "        text-align: right;\n",
       "    }\n",
       "</style>\n",
       "<table border=\"1\" class=\"dataframe\">\n",
       "  <thead>\n",
       "    <tr style=\"text-align: right;\">\n",
       "      <th></th>\n",
       "      <th>sepal.length</th>\n",
       "      <th>sepal.width</th>\n",
       "      <th>petal.length</th>\n",
       "      <th>petal.width</th>\n",
       "      <th>variety</th>\n",
       "    </tr>\n",
       "  </thead>\n",
       "  <tbody>\n",
       "    <tr>\n",
       "      <th>0</th>\n",
       "      <td>5.1</td>\n",
       "      <td>3.5</td>\n",
       "      <td>1.4</td>\n",
       "      <td>0.2</td>\n",
       "      <td>Setosa</td>\n",
       "    </tr>\n",
       "    <tr>\n",
       "      <th>1</th>\n",
       "      <td>4.9</td>\n",
       "      <td>3.0</td>\n",
       "      <td>1.4</td>\n",
       "      <td>0.2</td>\n",
       "      <td>Setosa</td>\n",
       "    </tr>\n",
       "    <tr>\n",
       "      <th>2</th>\n",
       "      <td>4.7</td>\n",
       "      <td>3.2</td>\n",
       "      <td>1.3</td>\n",
       "      <td>0.2</td>\n",
       "      <td>Setosa</td>\n",
       "    </tr>\n",
       "    <tr>\n",
       "      <th>3</th>\n",
       "      <td>4.6</td>\n",
       "      <td>3.1</td>\n",
       "      <td>1.5</td>\n",
       "      <td>0.2</td>\n",
       "      <td>Setosa</td>\n",
       "    </tr>\n",
       "    <tr>\n",
       "      <th>4</th>\n",
       "      <td>5.0</td>\n",
       "      <td>3.6</td>\n",
       "      <td>1.4</td>\n",
       "      <td>0.2</td>\n",
       "      <td>Setosa</td>\n",
       "    </tr>\n",
       "  </tbody>\n",
       "</table>\n",
       "</div>"
      ],
      "text/plain": [
       "   sepal.length  sepal.width  petal.length  petal.width variety\n",
       "0           5.1          3.5           1.4          0.2  Setosa\n",
       "1           4.9          3.0           1.4          0.2  Setosa\n",
       "2           4.7          3.2           1.3          0.2  Setosa\n",
       "3           4.6          3.1           1.5          0.2  Setosa\n",
       "4           5.0          3.6           1.4          0.2  Setosa"
      ]
     },
     "execution_count": 59,
     "metadata": {},
     "output_type": "execute_result"
    }
   ],
   "source": [
    "dataDataframe.head(5)"
   ]
  },
  {
   "cell_type": "code",
   "execution_count": 60,
   "metadata": {},
   "outputs": [
    {
     "data": {
      "text/plain": [
       "array([[5.1, 3.5, 1.4, 0.2, 'Setosa'],\n",
       "       [4.9, 3.0, 1.4, 0.2, 'Setosa'],\n",
       "       [4.7, 3.2, 1.3, 0.2, 'Setosa'],\n",
       "       [4.6, 3.1, 1.5, 0.2, 'Setosa'],\n",
       "       [5.0, 3.6, 1.4, 0.2, 'Setosa'],\n",
       "       [5.4, 3.9, 1.7, 0.4, 'Setosa'],\n",
       "       [4.6, 3.4, 1.4, 0.3, 'Setosa'],\n",
       "       [5.0, 3.4, 1.5, 0.2, 'Setosa'],\n",
       "       [4.4, 2.9, 1.4, 0.2, 'Setosa'],\n",
       "       [4.9, 3.1, 1.5, 0.1, 'Setosa'],\n",
       "       [5.4, 3.7, 1.5, 0.2, 'Setosa'],\n",
       "       [4.8, 3.4, 1.6, 0.2, 'Setosa'],\n",
       "       [4.8, 3.0, 1.4, 0.1, 'Setosa'],\n",
       "       [4.3, 3.0, 1.1, 0.1, 'Setosa'],\n",
       "       [5.8, 4.0, 1.2, 0.2, 'Setosa'],\n",
       "       [5.7, 4.4, 1.5, 0.4, 'Setosa'],\n",
       "       [5.4, 3.9, 1.3, 0.4, 'Setosa'],\n",
       "       [5.1, 3.5, 1.4, 0.3, 'Setosa'],\n",
       "       [5.7, 3.8, 1.7, 0.3, 'Setosa'],\n",
       "       [5.1, 3.8, 1.5, 0.3, 'Setosa'],\n",
       "       [5.4, 3.4, 1.7, 0.2, 'Setosa'],\n",
       "       [5.1, 3.7, 1.5, 0.4, 'Setosa'],\n",
       "       [4.6, 3.6, 1.0, 0.2, 'Setosa'],\n",
       "       [5.1, 3.3, 1.7, 0.5, 'Setosa'],\n",
       "       [4.8, 3.4, 1.9, 0.2, 'Setosa'],\n",
       "       [5.0, 3.0, 1.6, 0.2, 'Setosa'],\n",
       "       [5.0, 3.4, 1.6, 0.4, 'Setosa'],\n",
       "       [5.2, 3.5, 1.5, 0.2, 'Setosa'],\n",
       "       [5.2, 3.4, 1.4, 0.2, 'Setosa'],\n",
       "       [4.7, 3.2, 1.6, 0.2, 'Setosa'],\n",
       "       [4.8, 3.1, 1.6, 0.2, 'Setosa'],\n",
       "       [5.4, 3.4, 1.5, 0.4, 'Setosa'],\n",
       "       [5.2, 4.1, 1.5, 0.1, 'Setosa'],\n",
       "       [5.5, 4.2, 1.4, 0.2, 'Setosa'],\n",
       "       [4.9, 3.1, 1.5, 0.2, 'Setosa'],\n",
       "       [5.0, 3.2, 1.2, 0.2, 'Setosa'],\n",
       "       [5.5, 3.5, 1.3, 0.2, 'Setosa'],\n",
       "       [4.9, 3.6, 1.4, 0.1, 'Setosa'],\n",
       "       [4.4, 3.0, 1.3, 0.2, 'Setosa'],\n",
       "       [5.1, 3.4, 1.5, 0.2, 'Setosa'],\n",
       "       [5.0, 3.5, 1.3, 0.3, 'Setosa'],\n",
       "       [4.5, 2.3, 1.3, 0.3, 'Setosa'],\n",
       "       [4.4, 3.2, 1.3, 0.2, 'Setosa'],\n",
       "       [5.0, 3.5, 1.6, 0.6, 'Setosa'],\n",
       "       [5.1, 3.8, 1.9, 0.4, 'Setosa'],\n",
       "       [4.8, 3.0, 1.4, 0.3, 'Setosa'],\n",
       "       [5.1, 3.8, 1.6, 0.2, 'Setosa'],\n",
       "       [4.6, 3.2, 1.4, 0.2, 'Setosa'],\n",
       "       [5.3, 3.7, 1.5, 0.2, 'Setosa'],\n",
       "       [5.0, 3.3, 1.4, 0.2, 'Setosa'],\n",
       "       [7.0, 3.2, 4.7, 1.4, 'Versicolor'],\n",
       "       [6.4, 3.2, 4.5, 1.5, 'Versicolor'],\n",
       "       [6.9, 3.1, 4.9, 1.5, 'Versicolor'],\n",
       "       [5.5, 2.3, 4.0, 1.3, 'Versicolor'],\n",
       "       [6.5, 2.8, 4.6, 1.5, 'Versicolor'],\n",
       "       [5.7, 2.8, 4.5, 1.3, 'Versicolor'],\n",
       "       [6.3, 3.3, 4.7, 1.6, 'Versicolor'],\n",
       "       [4.9, 2.4, 3.3, 1.0, 'Versicolor'],\n",
       "       [6.6, 2.9, 4.6, 1.3, 'Versicolor'],\n",
       "       [5.2, 2.7, 3.9, 1.4, 'Versicolor'],\n",
       "       [5.0, 2.0, 3.5, 1.0, 'Versicolor'],\n",
       "       [5.9, 3.0, 4.2, 1.5, 'Versicolor'],\n",
       "       [6.0, 2.2, 4.0, 1.0, 'Versicolor'],\n",
       "       [6.1, 2.9, 4.7, 1.4, 'Versicolor'],\n",
       "       [5.6, 2.9, 3.6, 1.3, 'Versicolor'],\n",
       "       [6.7, 3.1, 4.4, 1.4, 'Versicolor'],\n",
       "       [5.6, 3.0, 4.5, 1.5, 'Versicolor'],\n",
       "       [5.8, 2.7, 4.1, 1.0, 'Versicolor'],\n",
       "       [6.2, 2.2, 4.5, 1.5, 'Versicolor'],\n",
       "       [5.6, 2.5, 3.9, 1.1, 'Versicolor'],\n",
       "       [5.9, 3.2, 4.8, 1.8, 'Versicolor'],\n",
       "       [6.1, 2.8, 4.0, 1.3, 'Versicolor'],\n",
       "       [6.3, 2.5, 4.9, 1.5, 'Versicolor'],\n",
       "       [6.1, 2.8, 4.7, 1.2, 'Versicolor'],\n",
       "       [6.4, 2.9, 4.3, 1.3, 'Versicolor'],\n",
       "       [6.6, 3.0, 4.4, 1.4, 'Versicolor'],\n",
       "       [6.8, 2.8, 4.8, 1.4, 'Versicolor'],\n",
       "       [6.7, 3.0, 5.0, 1.7, 'Versicolor'],\n",
       "       [6.0, 2.9, 4.5, 1.5, 'Versicolor'],\n",
       "       [5.7, 2.6, 3.5, 1.0, 'Versicolor'],\n",
       "       [5.5, 2.4, 3.8, 1.1, 'Versicolor'],\n",
       "       [5.5, 2.4, 3.7, 1.0, 'Versicolor'],\n",
       "       [5.8, 2.7, 3.9, 1.2, 'Versicolor'],\n",
       "       [6.0, 2.7, 5.1, 1.6, 'Versicolor'],\n",
       "       [5.4, 3.0, 4.5, 1.5, 'Versicolor'],\n",
       "       [6.0, 3.4, 4.5, 1.6, 'Versicolor'],\n",
       "       [6.7, 3.1, 4.7, 1.5, 'Versicolor'],\n",
       "       [6.3, 2.3, 4.4, 1.3, 'Versicolor'],\n",
       "       [5.6, 3.0, 4.1, 1.3, 'Versicolor'],\n",
       "       [5.5, 2.5, 4.0, 1.3, 'Versicolor'],\n",
       "       [5.5, 2.6, 4.4, 1.2, 'Versicolor'],\n",
       "       [6.1, 3.0, 4.6, 1.4, 'Versicolor'],\n",
       "       [5.8, 2.6, 4.0, 1.2, 'Versicolor'],\n",
       "       [5.0, 2.3, 3.3, 1.0, 'Versicolor'],\n",
       "       [5.6, 2.7, 4.2, 1.3, 'Versicolor'],\n",
       "       [5.7, 3.0, 4.2, 1.2, 'Versicolor'],\n",
       "       [5.7, 2.9, 4.2, 1.3, 'Versicolor'],\n",
       "       [6.2, 2.9, 4.3, 1.3, 'Versicolor'],\n",
       "       [5.1, 2.5, 3.0, 1.1, 'Versicolor'],\n",
       "       [5.7, 2.8, 4.1, 1.3, 'Versicolor'],\n",
       "       [6.3, 3.3, 6.0, 2.5, 'Virginica'],\n",
       "       [5.8, 2.7, 5.1, 1.9, 'Virginica'],\n",
       "       [7.1, 3.0, 5.9, 2.1, 'Virginica'],\n",
       "       [6.3, 2.9, 5.6, 1.8, 'Virginica'],\n",
       "       [6.5, 3.0, 5.8, 2.2, 'Virginica'],\n",
       "       [7.6, 3.0, 6.6, 2.1, 'Virginica'],\n",
       "       [4.9, 2.5, 4.5, 1.7, 'Virginica'],\n",
       "       [7.3, 2.9, 6.3, 1.8, 'Virginica'],\n",
       "       [6.7, 2.5, 5.8, 1.8, 'Virginica'],\n",
       "       [7.2, 3.6, 6.1, 2.5, 'Virginica'],\n",
       "       [6.5, 3.2, 5.1, 2.0, 'Virginica'],\n",
       "       [6.4, 2.7, 5.3, 1.9, 'Virginica'],\n",
       "       [6.8, 3.0, 5.5, 2.1, 'Virginica'],\n",
       "       [5.7, 2.5, 5.0, 2.0, 'Virginica'],\n",
       "       [5.8, 2.8, 5.1, 2.4, 'Virginica'],\n",
       "       [6.4, 3.2, 5.3, 2.3, 'Virginica'],\n",
       "       [6.5, 3.0, 5.5, 1.8, 'Virginica'],\n",
       "       [7.7, 3.8, 6.7, 2.2, 'Virginica'],\n",
       "       [7.7, 2.6, 6.9, 2.3, 'Virginica'],\n",
       "       [6.0, 2.2, 5.0, 1.5, 'Virginica'],\n",
       "       [6.9, 3.2, 5.7, 2.3, 'Virginica'],\n",
       "       [5.6, 2.8, 4.9, 2.0, 'Virginica'],\n",
       "       [7.7, 2.8, 6.7, 2.0, 'Virginica'],\n",
       "       [6.3, 2.7, 4.9, 1.8, 'Virginica'],\n",
       "       [6.7, 3.3, 5.7, 2.1, 'Virginica'],\n",
       "       [7.2, 3.2, 6.0, 1.8, 'Virginica'],\n",
       "       [6.2, 2.8, 4.8, 1.8, 'Virginica'],\n",
       "       [6.1, 3.0, 4.9, 1.8, 'Virginica'],\n",
       "       [6.4, 2.8, 5.6, 2.1, 'Virginica'],\n",
       "       [7.2, 3.0, 5.8, 1.6, 'Virginica'],\n",
       "       [7.4, 2.8, 6.1, 1.9, 'Virginica'],\n",
       "       [7.9, 3.8, 6.4, 2.0, 'Virginica'],\n",
       "       [6.4, 2.8, 5.6, 2.2, 'Virginica'],\n",
       "       [6.3, 2.8, 5.1, 1.5, 'Virginica'],\n",
       "       [6.1, 2.6, 5.6, 1.4, 'Virginica'],\n",
       "       [7.7, 3.0, 6.1, 2.3, 'Virginica'],\n",
       "       [6.3, 3.4, 5.6, 2.4, 'Virginica'],\n",
       "       [6.4, 3.1, 5.5, 1.8, 'Virginica'],\n",
       "       [6.0, 3.0, 4.8, 1.8, 'Virginica'],\n",
       "       [6.9, 3.1, 5.4, 2.1, 'Virginica'],\n",
       "       [6.7, 3.1, 5.6, 2.4, 'Virginica'],\n",
       "       [6.9, 3.1, 5.1, 2.3, 'Virginica'],\n",
       "       [5.8, 2.7, 5.1, 1.9, 'Virginica'],\n",
       "       [6.8, 3.2, 5.9, 2.3, 'Virginica'],\n",
       "       [6.7, 3.3, 5.7, 2.5, 'Virginica'],\n",
       "       [6.7, 3.0, 5.2, 2.3, 'Virginica'],\n",
       "       [6.3, 2.5, 5.0, 1.9, 'Virginica'],\n",
       "       [6.5, 3.0, 5.2, 2.0, 'Virginica'],\n",
       "       [6.2, 3.4, 5.4, 2.3, 'Virginica'],\n",
       "       [5.9, 3.0, 5.1, 1.8, 'Virginica']], dtype=object)"
      ]
     },
     "execution_count": 60,
     "metadata": {},
     "output_type": "execute_result"
    }
   ],
   "source": [
    "dataNumpy = dataDataframe.to_numpy()\n",
    "dataNumpy"
   ]
  },
  {
   "cell_type": "code",
   "execution_count": 133,
   "metadata": {},
   "outputs": [],
   "source": [
    "def distanceMeasure(data):\n",
    "    a=np.zeros((len(dataNumpy),1))\n",
    "    for i in range(0,len(dataNumpy)):\n",
    "        dist=np.linalg.norm(dataNumpy[i,0:3]-data)\n",
    "        a[i,0]=dist\n",
    "        \n",
    "        \n",
    "    return a\n",
    "        "
   ]
  },
  {
   "cell_type": "code",
   "execution_count": 134,
   "metadata": {},
   "outputs": [
    {
     "name": "stdout",
     "output_type": "stream",
     "text": [
      "[[0.        ]\n",
      " [0.53851648]\n",
      " [0.50990195]\n",
      " [0.64807407]\n",
      " [0.14142136]\n",
      " [0.58309519]\n",
      " [0.50990195]\n",
      " [0.17320508]\n",
      " [0.92195445]\n",
      " [0.45825757]\n",
      " [0.37416574]\n",
      " [0.37416574]\n",
      " [0.58309519]\n",
      " [0.98994949]\n",
      " [0.88317609]\n",
      " [1.08627805]\n",
      " [0.50990195]\n",
      " [0.        ]\n",
      " [0.73484692]\n",
      " [0.31622777]\n",
      " [0.43588989]\n",
      " [0.2236068 ]\n",
      " [0.64807407]\n",
      " [0.36055513]\n",
      " [0.59160798]\n",
      " [0.54772256]\n",
      " [0.24494897]\n",
      " [0.14142136]\n",
      " [0.14142136]\n",
      " [0.53851648]\n",
      " [0.53851648]\n",
      " [0.33166248]\n",
      " [0.6164414 ]\n",
      " [0.80622577]\n",
      " [0.45825757]\n",
      " [0.37416574]\n",
      " [0.41231056]\n",
      " [0.2236068 ]\n",
      " [0.8660254 ]\n",
      " [0.14142136]\n",
      " [0.14142136]\n",
      " [1.3453624 ]\n",
      " [0.76811457]\n",
      " [0.2236068 ]\n",
      " [0.58309519]\n",
      " [0.58309519]\n",
      " [0.36055513]\n",
      " [0.58309519]\n",
      " [0.3       ]\n",
      " [0.2236068 ]\n",
      " [3.81968585]\n",
      " [3.37490741]\n",
      " [3.95600809]\n",
      " [2.89136646]\n",
      " [3.56230263]\n",
      " [3.23419233]\n",
      " [3.51710108]\n",
      " [2.20454077]\n",
      " [3.58468967]\n",
      " [2.62678511]\n",
      " [2.58263431]\n",
      " [2.95465734]\n",
      " [3.04302481]\n",
      " [3.5       ]\n",
      " [2.33452351]\n",
      " [3.42344855]\n",
      " [3.17962262]\n",
      " [2.90172363]\n",
      " [3.53694784]\n",
      " [2.73861279]\n",
      " [3.50570963]\n",
      " [2.87228132]\n",
      " [3.83275358]\n",
      " [3.51852242]\n",
      " [3.23419233]\n",
      " [3.39116499]\n",
      " [3.86522962]\n",
      " [3.97114593]\n",
      " [3.28329103]\n",
      " [2.36220236]\n",
      " [2.67020598]\n",
      " [2.58069758]\n",
      " [2.71661554]\n",
      " [3.89101529]\n",
      " [3.15436206]\n",
      " [3.22955105]\n",
      " [3.68917335]\n",
      " [3.44673759]\n",
      " [2.79105715]\n",
      " [2.81424946]\n",
      " [3.15753068]\n",
      " [3.38969025]\n",
      " [2.83901391]\n",
      " [2.24944438]\n",
      " [2.95465734]\n",
      " [2.90688837]\n",
      " [2.92574777]\n",
      " [3.1591138 ]\n",
      " [1.88679623]\n",
      " [2.85306852]\n",
      " [4.7581509 ]\n",
      " [3.84967531]\n",
      " [4.94974747]\n",
      " [4.40908154]\n",
      " [4.64435141]\n",
      " [5.79137289]\n",
      " [3.26343377]\n",
      " [5.40462765]\n",
      " [4.78748368]\n",
      " [5.14878626]\n",
      " [3.96736688]\n",
      " [4.18807832]\n",
      " [4.46654229]\n",
      " [3.78417759]\n",
      " [3.8301436 ]\n",
      " [4.12189277]\n",
      " [4.3611925 ]\n",
      " [5.91100668]\n",
      " [6.14979674]\n",
      " [3.93192065]\n",
      " [4.67118829]\n",
      " [3.60416426]\n",
      " [5.94474558]\n",
      " [3.78549865]\n",
      " [4.592385  ]\n",
      " [5.06557006]\n",
      " [3.64142829]\n",
      " [3.67423461]\n",
      " [4.45196586]\n",
      " [4.9010203 ]\n",
      " [5.27920449]\n",
      " [5.73846669]\n",
      " [4.45196586]\n",
      " [3.95221457]\n",
      " [4.41021541]\n",
      " [5.39444158]\n",
      " [4.36921045]\n",
      " [4.31972221]\n",
      " [3.55246393]\n",
      " [4.40454311]\n",
      " [4.51220567]\n",
      " [4.13400532]\n",
      " [3.84967531]\n",
      " [4.81975103]\n",
      " [4.592385  ]\n",
      " [4.15331193]\n",
      " [3.92428337]\n",
      " [4.08044115]\n",
      " [4.14969878]\n",
      " [3.81837662]]\n"
     ]
    }
   ],
   "source": [
    "distance=distanceMeasure(dataNumpy[0,0:3])\n",
    "print(distance)"
   ]
  },
  {
   "cell_type": "code",
   "execution_count": 143,
   "metadata": {},
   "outputs": [
    {
     "data": {
      "text/plain": [
       "(150, 1)"
      ]
     },
     "execution_count": 143,
     "metadata": {},
     "output_type": "execute_result"
    }
   ],
   "source": [
    "dataDistance = pd.DataFrame(distance,columns = ['distance'])\n",
    "dataVaraity = pd.DataFrame(dataNumpy[:,4],columns = ['varaity'])\n",
    "dataDistance.shape\n",
    "dataVaraity.shape"
   ]
  },
  {
   "cell_type": "code",
   "execution_count": null,
   "metadata": {},
   "outputs": [],
   "source": [
    "pd.concat(data)"
   ]
  },
  {
   "cell_type": "code",
   "execution_count": 94,
   "metadata": {},
   "outputs": [
    {
     "name": "stdout",
     "output_type": "stream",
     "text": [
      "Initialized empty Git repository in C:/Users/User/Desktop/Course/Limon Vai ML Course/KNN_from_scratch/.git/\n"
     ]
    }
   ],
   "source": [
    "!git init"
   ]
  },
  {
   "cell_type": "code",
   "execution_count": 95,
   "metadata": {},
   "outputs": [
    {
     "name": "stderr",
     "output_type": "stream",
     "text": [
      "warning: LF will be replaced by CRLF in .ipynb_checkpoints/KNN-checkpoint.ipynb.\n",
      "The file will have its original line endings in your working directory\n",
      "warning: LF will be replaced by CRLF in KNN.ipynb.\n",
      "The file will have its original line endings in your working directory\n",
      "warning: LF will be replaced by CRLF in iris.csv.\n",
      "The file will have its original line endings in your working directory\n"
     ]
    }
   ],
   "source": [
    "!git add ."
   ]
  },
  {
   "cell_type": "code",
   "execution_count": 96,
   "metadata": {},
   "outputs": [
    {
     "name": "stdout",
     "output_type": "stream",
     "text": [
      "[master (root-commit) 61c2ae7] first commit\n",
      " 4 files changed, 658 insertions(+)\n",
      " create mode 100644 .ipynb_checkpoints/KNN-checkpoint.ipynb\n",
      " create mode 100644 .jovianrc\n",
      " create mode 100644 KNN.ipynb\n",
      " create mode 100644 iris.csv\n"
     ]
    }
   ],
   "source": [
    "!git commit -m \"first commit\""
   ]
  },
  {
   "cell_type": "code",
   "execution_count": 97,
   "metadata": {},
   "outputs": [],
   "source": [
    "!git branch -M main"
   ]
  },
  {
   "cell_type": "code",
   "execution_count": 98,
   "metadata": {},
   "outputs": [],
   "source": [
    "!git remote add origin https://github.com/rahadarmannabid/KNN_from_scratch.git"
   ]
  },
  {
   "cell_type": "code",
   "execution_count": 99,
   "metadata": {},
   "outputs": [
    {
     "name": "stdout",
     "output_type": "stream",
     "text": [
      "Branch 'main' set up to track remote branch 'main' from 'origin'.\n"
     ]
    },
    {
     "name": "stderr",
     "output_type": "stream",
     "text": [
      "To https://github.com/rahadarmannabid/KNN_from_scratch.git\n",
      " * [new branch]      main -> main\n"
     ]
    }
   ],
   "source": [
    "!git push -u origin main"
   ]
  },
  {
   "cell_type": "code",
   "execution_count": null,
   "metadata": {},
   "outputs": [],
   "source": []
  }
 ],
 "metadata": {
  "kernelspec": {
   "display_name": "Python 3",
   "language": "python",
   "name": "python3"
  },
  "language_info": {
   "codemirror_mode": {
    "name": "ipython",
    "version": 3
   },
   "file_extension": ".py",
   "mimetype": "text/x-python",
   "name": "python",
   "nbconvert_exporter": "python",
   "pygments_lexer": "ipython3",
   "version": "3.8.5"
  }
 },
 "nbformat": 4,
 "nbformat_minor": 4
}
